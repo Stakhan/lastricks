{
 "cells": [
  {
   "cell_type": "code",
   "execution_count": 21,
   "id": "727ec5f5",
   "metadata": {},
   "outputs": [],
   "source": [
    "from pathlib import Path\n",
    "import geopandas as gpd\n",
    "root = Path.cwd().parents[1] / 'tmp' / 'compare_deliveries'\n",
    "vector_ref_path = root / 'delivery_1' / 'report' / 'FR_038_3_Block_PK_AREA1_Naskatech_20220922.gpkg'\n",
    "vector_test_path = root / 'output' / 'change_map_921000_6541000.shp'"
   ]
  },
  {
   "cell_type": "code",
   "execution_count": 4,
   "id": "a51b42fb",
   "metadata": {
    "collapsed": true
   },
   "outputs": [
    {
     "data": {
      "text/html": [
       "<div>\n",
       "<style scoped>\n",
       "    .dataframe tbody tr th:only-of-type {\n",
       "        vertical-align: middle;\n",
       "    }\n",
       "\n",
       "    .dataframe tbody tr th {\n",
       "        vertical-align: top;\n",
       "    }\n",
       "\n",
       "    .dataframe thead th {\n",
       "        text-align: right;\n",
       "    }\n",
       "</style>\n",
       "<table border=\"1\" class=\"dataframe\">\n",
       "  <thead>\n",
       "    <tr style=\"text-align: right;\">\n",
       "      <th></th>\n",
       "      <th>geometry</th>\n",
       "      <th>error_type</th>\n",
       "    </tr>\n",
       "  </thead>\n",
       "  <tbody>\n",
       "    <tr>\n",
       "      <th>0</th>\n",
       "      <td>POLYGON ((922563.255 6547590.269, 922564.719 6...</td>\n",
       "      <td>ERRORS_DTM</td>\n",
       "    </tr>\n",
       "    <tr>\n",
       "      <th>1</th>\n",
       "      <td>POLYGON ((922545.502 6547524.710, 922547.386 6...</td>\n",
       "      <td>ERRORS_DTM</td>\n",
       "    </tr>\n",
       "    <tr>\n",
       "      <th>2</th>\n",
       "      <td>POLYGON ((922656.092 6542814.462, 922657.504 6...</td>\n",
       "      <td>ERRORS_DTM</td>\n",
       "    </tr>\n",
       "    <tr>\n",
       "      <th>3</th>\n",
       "      <td>POLYGON ((934665.546 6547791.451, 934666.938 6...</td>\n",
       "      <td>ERRORS_DTM</td>\n",
       "    </tr>\n",
       "    <tr>\n",
       "      <th>4</th>\n",
       "      <td>POLYGON ((938531.621 6540917.229, 938533.495 6...</td>\n",
       "      <td>ERRORS_DTM</td>\n",
       "    </tr>\n",
       "    <tr>\n",
       "      <th>...</th>\n",
       "      <td>...</td>\n",
       "      <td>...</td>\n",
       "    </tr>\n",
       "    <tr>\n",
       "      <th>261</th>\n",
       "      <td>POLYGON ((923831.799 6544226.228, 923832.387 6...</td>\n",
       "      <td>ERRORS_DTM</td>\n",
       "    </tr>\n",
       "    <tr>\n",
       "      <th>262</th>\n",
       "      <td>POLYGON ((923874.957 6544247.219, 923875.560 6...</td>\n",
       "      <td>ERRORS_DTM</td>\n",
       "    </tr>\n",
       "    <tr>\n",
       "      <th>263</th>\n",
       "      <td>POLYGON ((923920.193 6544279.004, 923921.086 6...</td>\n",
       "      <td>ERRORS_DTM</td>\n",
       "    </tr>\n",
       "    <tr>\n",
       "      <th>264</th>\n",
       "      <td>POLYGON ((923809.676 6544214.891, 923810.270 6...</td>\n",
       "      <td>ERRORS_DTM</td>\n",
       "    </tr>\n",
       "    <tr>\n",
       "      <th>265</th>\n",
       "      <td>POLYGON ((923958.995 6544301.530, 923959.475 6...</td>\n",
       "      <td>ERRORS_DTM</td>\n",
       "    </tr>\n",
       "  </tbody>\n",
       "</table>\n",
       "<p>266 rows × 2 columns</p>\n",
       "</div>"
      ],
      "text/plain": [
       "                                              geometry  error_type\n",
       "0    POLYGON ((922563.255 6547590.269, 922564.719 6...  ERRORS_DTM\n",
       "1    POLYGON ((922545.502 6547524.710, 922547.386 6...  ERRORS_DTM\n",
       "2    POLYGON ((922656.092 6542814.462, 922657.504 6...  ERRORS_DTM\n",
       "3    POLYGON ((934665.546 6547791.451, 934666.938 6...  ERRORS_DTM\n",
       "4    POLYGON ((938531.621 6540917.229, 938533.495 6...  ERRORS_DTM\n",
       "..                                                 ...         ...\n",
       "261  POLYGON ((923831.799 6544226.228, 923832.387 6...  ERRORS_DTM\n",
       "262  POLYGON ((923874.957 6544247.219, 923875.560 6...  ERRORS_DTM\n",
       "263  POLYGON ((923920.193 6544279.004, 923921.086 6...  ERRORS_DTM\n",
       "264  POLYGON ((923809.676 6544214.891, 923810.270 6...  ERRORS_DTM\n",
       "265  POLYGON ((923958.995 6544301.530, 923959.475 6...  ERRORS_DTM\n",
       "\n",
       "[266 rows x 2 columns]"
      ]
     },
     "execution_count": 4,
     "metadata": {},
     "output_type": "execute_result"
    }
   ],
   "source": [
    "import fiona\n",
    "import pandas as pd\n",
    "layers = fiona.listlayers(vector_ref_path) \n",
    "refs = []\n",
    "for layer in layers:\n",
    "    if layer != 'Default':\n",
    "        ref_df = gpd.read_file(vector_ref_path, layer=layer, crs='EPSG:2154')\n",
    "        ref_df['error_type'] = layer\n",
    "        refs.append( ref_df )"
   ]
  },
  {
   "cell_type": "code",
   "execution_count": 8,
   "id": "ef82929d",
   "metadata": {
    "scrolled": true
   },
   "outputs": [
    {
     "data": {
      "text/html": [
       "<div>\n",
       "<style scoped>\n",
       "    .dataframe tbody tr th:only-of-type {\n",
       "        vertical-align: middle;\n",
       "    }\n",
       "\n",
       "    .dataframe tbody tr th {\n",
       "        vertical-align: top;\n",
       "    }\n",
       "\n",
       "    .dataframe thead th {\n",
       "        text-align: right;\n",
       "    }\n",
       "</style>\n",
       "<table border=\"1\" class=\"dataframe\">\n",
       "  <thead>\n",
       "    <tr style=\"text-align: right;\">\n",
       "      <th></th>\n",
       "      <th>geometry</th>\n",
       "      <th>error_type</th>\n",
       "    </tr>\n",
       "  </thead>\n",
       "  <tbody>\n",
       "    <tr>\n",
       "      <th>0</th>\n",
       "      <td>POLYGON ((922563.255 6547590.269, 922564.719 6...</td>\n",
       "      <td>ERRORS_DTM</td>\n",
       "    </tr>\n",
       "    <tr>\n",
       "      <th>1</th>\n",
       "      <td>POLYGON ((922545.502 6547524.710, 922547.386 6...</td>\n",
       "      <td>ERRORS_DTM</td>\n",
       "    </tr>\n",
       "    <tr>\n",
       "      <th>2</th>\n",
       "      <td>POLYGON ((922656.092 6542814.462, 922657.504 6...</td>\n",
       "      <td>ERRORS_DTM</td>\n",
       "    </tr>\n",
       "    <tr>\n",
       "      <th>3</th>\n",
       "      <td>POLYGON ((934665.546 6547791.451, 934666.938 6...</td>\n",
       "      <td>ERRORS_DTM</td>\n",
       "    </tr>\n",
       "    <tr>\n",
       "      <th>4</th>\n",
       "      <td>POLYGON ((938531.621 6540917.229, 938533.495 6...</td>\n",
       "      <td>ERRORS_DTM</td>\n",
       "    </tr>\n",
       "    <tr>\n",
       "      <th>...</th>\n",
       "      <td>...</td>\n",
       "      <td>...</td>\n",
       "    </tr>\n",
       "    <tr>\n",
       "      <th>6</th>\n",
       "      <td>POLYGON ((928070.279 6540027.262, 928080.551 6...</td>\n",
       "      <td>Errors_cls_65</td>\n",
       "    </tr>\n",
       "    <tr>\n",
       "      <th>7</th>\n",
       "      <td>POLYGON ((928602.180 6540656.153, 928614.276 6...</td>\n",
       "      <td>Errors_cls_65</td>\n",
       "    </tr>\n",
       "    <tr>\n",
       "      <th>8</th>\n",
       "      <td>POLYGON ((927504.488 6547466.904, 927510.925 6...</td>\n",
       "      <td>Errors_cls_65</td>\n",
       "    </tr>\n",
       "    <tr>\n",
       "      <th>9</th>\n",
       "      <td>POLYGON ((924921.110 6542217.421, 924924.832 6...</td>\n",
       "      <td>Errors_cls_65</td>\n",
       "    </tr>\n",
       "    <tr>\n",
       "      <th>10</th>\n",
       "      <td>POLYGON ((921615.369 6541068.766, 921615.767 6...</td>\n",
       "      <td>Errors_cls_65</td>\n",
       "    </tr>\n",
       "  </tbody>\n",
       "</table>\n",
       "<p>441 rows × 2 columns</p>\n",
       "</div>"
      ],
      "text/plain": [
       "                                             geometry     error_type\n",
       "0   POLYGON ((922563.255 6547590.269, 922564.719 6...     ERRORS_DTM\n",
       "1   POLYGON ((922545.502 6547524.710, 922547.386 6...     ERRORS_DTM\n",
       "2   POLYGON ((922656.092 6542814.462, 922657.504 6...     ERRORS_DTM\n",
       "3   POLYGON ((934665.546 6547791.451, 934666.938 6...     ERRORS_DTM\n",
       "4   POLYGON ((938531.621 6540917.229, 938533.495 6...     ERRORS_DTM\n",
       "..                                                ...            ...\n",
       "6   POLYGON ((928070.279 6540027.262, 928080.551 6...  Errors_cls_65\n",
       "7   POLYGON ((928602.180 6540656.153, 928614.276 6...  Errors_cls_65\n",
       "8   POLYGON ((927504.488 6547466.904, 927510.925 6...  Errors_cls_65\n",
       "9   POLYGON ((924921.110 6542217.421, 924924.832 6...  Errors_cls_65\n",
       "10  POLYGON ((921615.369 6541068.766, 921615.767 6...  Errors_cls_65\n",
       "\n",
       "[441 rows x 2 columns]"
      ]
     },
     "execution_count": 8,
     "metadata": {},
     "output_type": "execute_result"
    }
   ],
   "source": [
    "ref = pd.concat(refs)\n",
    "ref"
   ]
  },
  {
   "cell_type": "code",
   "execution_count": 12,
   "id": "6d78db7f",
   "metadata": {},
   "outputs": [
    {
     "data": {
      "text/plain": [
       "11"
      ]
     },
     "execution_count": 12,
     "metadata": {},
     "output_type": "execute_result"
    }
   ],
   "source": [
    "len(ref[ ref['error_type'] == 'Errors_cls_65' ])"
   ]
  },
  {
   "cell_type": "code",
   "execution_count": 14,
   "id": "902db55c",
   "metadata": {},
   "outputs": [
    {
     "data": {
      "text/plain": [
       "['ERRORS_DTM', 'Errors_raster', 'ERRORS_WATER', 'Errors_cls_65']"
      ]
     },
     "execution_count": 14,
     "metadata": {},
     "output_type": "execute_result"
    }
   ],
   "source": [
    "ref['error_type'].unique().tolist()"
   ]
  },
  {
   "cell_type": "code",
   "execution_count": 23,
   "id": "74195ac9",
   "metadata": {},
   "outputs": [],
   "source": [
    "test = gpd.read_file(vector_test_path).geometry"
   ]
  },
  {
   "cell_type": "code",
   "execution_count": 135,
   "id": "f55982d0",
   "metadata": {},
   "outputs": [
    {
     "name": "stdout",
     "output_type": "stream",
     "text": [
      "0     POLYGON ((922563.255 6547590.269, 922564.719 6...\n",
      "1     POLYGON ((922545.502 6547524.710, 922547.386 6...\n",
      "2     POLYGON ((922656.092 6542814.462, 922657.504 6...\n",
      "3     POLYGON ((934665.546 6547791.451, 934666.938 6...\n",
      "4     POLYGON ((938531.621 6540917.229, 938533.495 6...\n",
      "                            ...                        \n",
      "6     POLYGON ((928070.279 6540027.262, 928080.551 6...\n",
      "7     POLYGON ((928602.180 6540656.153, 928614.276 6...\n",
      "8     POLYGON ((927504.488 6547466.904, 927510.925 6...\n",
      "9     POLYGON ((924921.110 6542217.421, 924924.832 6...\n",
      "10    POLYGON ((921615.369 6541068.766, 921615.767 6...\n",
      "Name: geometry, Length: 441, dtype: geometry\n"
     ]
    }
   ],
   "source": [
    "print(ref)"
   ]
  },
  {
   "cell_type": "markdown",
   "id": "afad468a",
   "metadata": {},
   "source": [
    "Computing statistics between ref and test"
   ]
  },
  {
   "cell_type": "code",
   "execution_count": 136,
   "id": "f9eb595e",
   "metadata": {},
   "outputs": [],
   "source": [
    "stats = {\n",
    "    'index': [],\n",
    "    'nb_changes': [],\n",
    "    'nb_expected_changes': [],\n",
    "    'coverage_expected_changes_%': [],\n",
    "    'nb_missing_changes': []\n",
    "}\n",
    "\n"
   ]
  },
  {
   "cell_type": "code",
   "execution_count": 15,
   "id": "19d78e5b",
   "metadata": {},
   "outputs": [],
   "source": [
    "tile_name = '921000_6541000'\n",
    "xmin, ymax = [int(v) for v in tile_name.split('_')]\n",
    "xmax = xmin + 1000\n",
    "ymin = ymax - 1000\n",
    "local_ref = ref.cx[xmin:xmax, ymin:ymax]"
   ]
  },
  {
   "cell_type": "code",
   "execution_count": 138,
   "id": "adde50cb",
   "metadata": {
    "scrolled": false
   },
   "outputs": [
    {
     "name": "stderr",
     "output_type": "stream",
     "text": [
      "C:\\Users\\EAL\\Anaconda3\\envs\\lastricks_v2\\lib\\site-packages\\geopandas\\base.py:31: UserWarning: The indices of the two GeoSeries are different.\n",
      "  warn(\"The indices of the two GeoSeries are different.\")\n"
     ]
    },
    {
     "data": {
      "text/plain": [
       "GeoSeries([], dtype: geometry)"
      ]
     },
     "execution_count": 138,
     "metadata": {},
     "output_type": "execute_result"
    }
   ],
   "source": [
    "inter = local_ref.intersection(test)\n",
    "inter = inter[inter != None]\n",
    "inter = inter[~inter.is_empty]\n",
    "inter"
   ]
  },
  {
   "cell_type": "markdown",
   "id": "731105cd",
   "metadata": {},
   "source": [
    "**Quick overview**"
   ]
  },
  {
   "cell_type": "code",
   "execution_count": 139,
   "id": "aacef802",
   "metadata": {
    "scrolled": true
   },
   "outputs": [
    {
     "data": {
      "text/plain": [
       "<AxesSubplot: >"
      ]
     },
     "execution_count": 139,
     "metadata": {},
     "output_type": "execute_result"
    },
    {
     "data": {
      "image/png": "[encoded data removed]",
      "text/plain": [
       "<Figure size 2000x1600 with 1 Axes>"
      ]
     },
     "metadata": {},
     "output_type": "display_data"
    }
   ],
   "source": [
    "import matplotlib.pyplot as plt\n",
    "\n",
    "fig, ax = plt.subplots(figsize = (20,16)) \n",
    "local_ref.plot(color=\"none\", edgecolor='r', ax=ax)\n",
    "bounds = local_ref.total_bounds # order: minx, miny, maxx, maxy\n",
    "test.cx[bounds[0]:bounds[2], bounds[1]:bounds[3]].plot(color=\"none\", edgecolor='k', ax=ax)"
   ]
  },
  {
   "cell_type": "markdown",
   "id": "a86b6500",
   "metadata": {},
   "source": [
    "Visually, there is clearly an intersection. But thie intersects() and intersection() methods do not yield anything...\n",
    "\n",
    "Actually, the intersection() and intersects() methods only perform a row-wise comparison. i.e. each geometry of serie 1 will be compared to 1 geometry in serie 2 (and not all of them!).\n",
    "\n",
    "we have to iterate on one serie of geometries to perform all the intersections we want:"
   ]
  },
  {
   "cell_type": "code",
   "execution_count": 123,
   "id": "5ff01145",
   "metadata": {},
   "outputs": [],
   "source": [
    "def crop(gs_to_crop: gpd.GeoSeries, ref_gs: gpd.GeoSeries):\n",
    "    bounds = ref_gs.total_bounds\n",
    "    return gs_to_crop.cx[bounds[0]:bounds[2], bounds[1]:bounds[3]]"
   ]
  },
  {
   "cell_type": "code",
   "execution_count": 141,
   "id": "3eba7606",
   "metadata": {},
   "outputs": [
    {
     "data": {
      "text/plain": [
       "0    POLYGON ((921917.565 6540598.169, 921918.352 6...\n",
       "1    POLYGON ((921652.094 6540994.226, 921652.372 6...\n",
       "Name: geometry, dtype: geometry"
      ]
     },
     "execution_count": 141,
     "metadata": {},
     "output_type": "execute_result"
    }
   ],
   "source": [
    "local_ref = local_ref.reset_index(drop=True)\n",
    "local_ref"
   ]
  },
  {
   "cell_type": "code",
   "execution_count": 149,
   "id": "c3707239",
   "metadata": {},
   "outputs": [],
   "source": [
    "result_mask = []\n",
    "for ref_geom in local_ref:\n",
    "    result_mask.append(\n",
    "     any( test.apply(ref_geom.intersects) )\n",
    "    )"
   ]
  },
  {
   "cell_type": "code",
   "execution_count": 31,
   "id": "1700a917",
   "metadata": {},
   "outputs": [
    {
     "data": {
      "text/plain": [
       "(array([False,  True]), array([250,   3], dtype=int64))"
      ]
     },
     "execution_count": 31,
     "metadata": {},
     "output_type": "execute_result"
    }
   ],
   "source": [
    "result_masks = []\n",
    "for ref_geom in local_ref.geometry:\n",
    "    result_masks.append(\n",
    "        test.apply(ref_geom.intersects)\n",
    "    )\n",
    "import numpy as np\n",
    "np.unique(sum(result_masks).astype(bool), return_counts=True)"
   ]
  },
  {
   "cell_type": "code",
   "execution_count": 151,
   "id": "f5c6a81c",
   "metadata": {
    "scrolled": true
   },
   "outputs": [
    {
     "data": {
      "text/plain": [
       "2"
      ]
     },
     "execution_count": 151,
     "metadata": {},
     "output_type": "execute_result"
    }
   ],
   "source": [
    "nb_inter = sum(result_mask)\n",
    "nb_inter"
   ]
  },
  {
   "cell_type": "code",
   "execution_count": 152,
   "id": "07e409dc",
   "metadata": {},
   "outputs": [],
   "source": [
    "stats['index'].append( tile_name )\n",
    "stats['nb_changes'].append( len(test) )\n",
    "stats['nb_expected_changes'].append( len(local_ref) )\n",
    "stats['coverage_expected_changes_%'].append( nb_inter / len(local_ref) * 100 if len(local_ref) > 0 else 100 )\n",
    "stats['nb_missing_changes'].append( len(local_ref) - nb_inter )"
   ]
  },
  {
   "cell_type": "code",
   "execution_count": 153,
   "id": "c190069f",
   "metadata": {},
   "outputs": [],
   "source": [
    "stats_df = pd.DataFrame( data=stats )"
   ]
  },
  {
   "cell_type": "code",
   "execution_count": 154,
   "id": "769a34f1",
   "metadata": {},
   "outputs": [
    {
     "data": {
      "text/html": [
       "<div>\n",
       "<style scoped>\n",
       "    .dataframe tbody tr th:only-of-type {\n",
       "        vertical-align: middle;\n",
       "    }\n",
       "\n",
       "    .dataframe tbody tr th {\n",
       "        vertical-align: top;\n",
       "    }\n",
       "\n",
       "    .dataframe thead th {\n",
       "        text-align: right;\n",
       "    }\n",
       "</style>\n",
       "<table border=\"1\" class=\"dataframe\">\n",
       "  <thead>\n",
       "    <tr style=\"text-align: right;\">\n",
       "      <th></th>\n",
       "      <th>index</th>\n",
       "      <th>nb_changes</th>\n",
       "      <th>nb_expected_changes</th>\n",
       "      <th>coverage_expected_changes_%</th>\n",
       "      <th>nb_missing_changes</th>\n",
       "    </tr>\n",
       "  </thead>\n",
       "  <tbody>\n",
       "    <tr>\n",
       "      <th>0</th>\n",
       "      <td>921000_6541000</td>\n",
       "      <td>253</td>\n",
       "      <td>2</td>\n",
       "      <td>100.0</td>\n",
       "      <td>0</td>\n",
       "    </tr>\n",
       "  </tbody>\n",
       "</table>\n",
       "</div>"
      ],
      "text/plain": [
       "            index  nb_changes  nb_expected_changes  \\\n",
       "0  921000_6541000         253                    2   \n",
       "\n",
       "   coverage_expected_changes_%  nb_missing_changes  \n",
       "0                        100.0                   0  "
      ]
     },
     "execution_count": 154,
     "metadata": {},
     "output_type": "execute_result"
    }
   ],
   "source": [
    "stats_df"
   ]
  },
  {
   "cell_type": "code",
   "execution_count": null,
   "id": "30c69170",
   "metadata": {},
   "outputs": [],
   "source": []
  }
 ],
 "metadata": {
  "kernelspec": {
   "display_name": "Python 3 (ipykernel)",
   "language": "python",
   "name": "python3"
  },
  "language_info": {
   "codemirror_mode": {
    "name": "ipython",
    "version": 3
   },
   "file_extension": ".py",
   "mimetype": "text/x-python",
   "name": "python",
   "nbconvert_exporter": "python",
   "pygments_lexer": "ipython3",
   "version": "3.10.4"
  }
 },
 "nbformat": 4,
 "nbformat_minor": 5
}
